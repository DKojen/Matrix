{
  "nbformat": 4,
  "nbformat_minor": 0,
  "metadata": {
    "colab": {
      "name": "day4.ipynb",
      "provenance": [],
      "mount_file_id": "1Y6J7bk-XvAuscW6xZxuJtb22-jPrTyoJ",
      "authorship_tag": "ABX9TyPNHkm/jPECSlf731qfn/fR",
      "include_colab_link": true
    },
    "kernelspec": {
      "name": "python3",
      "display_name": "Python 3"
    }
  },
  "cells": [
    {
      "cell_type": "markdown",
      "metadata": {
        "id": "view-in-github",
        "colab_type": "text"
      },
      "source": [
        "<a href=\"https://colab.research.google.com/github/DKojen/Matrix/blob/master/day4.ipynb\" target=\"_parent\"><img src=\"https://colab.research.google.com/assets/colab-badge.svg\" alt=\"Open In Colab\"/></a>"
      ]
    },
    {
      "cell_type": "code",
      "metadata": {
        "colab_type": "code",
        "outputId": "91eb11c3-26c6-400c-d07d-e96637fcd084",
        "id": "ElbxYikMIZ1i",
        "colab": {
          "base_uri": "https://localhost:8080/",
          "height": 35
        }
      },
      "source": [
        "feats = ['brand_cat']\n",
        "x = df[feats].values\n",
        "y = df['prices_amountmin']\n",
        "\n",
        "model = DecisionTreeRegressor(max_depth=5)\n",
        "\n",
        "scores = cross_val_score(model, x, y, scoring='neg_mean_absolute_error')\n",
        "np.mean(scores), np.std(scores)\n"
      ],
      "execution_count": 0,
      "outputs": [
        {
          "output_type": "execute_result",
          "data": {
            "text/plain": [
              "(-58.38655694633361, 4.223555478221712)"
            ]
          },
          "metadata": {
            "tags": []
          },
          "execution_count": 45
        }
      ]
    },
    {
      "cell_type": "code",
      "metadata": {
        "id": "0MvRjEdt5AXY",
        "colab_type": "code",
        "colab": {}
      },
      "source": [
        "import pandas as pd\n",
        "import numpy as np\n",
        "from sklearn.tree import DecisionTreeRegressor\n",
        "from sklearn.metrics import mean_absolute_error\n",
        "from sklearn.model_selection import cross_val_score"
      ],
      "execution_count": 0,
      "outputs": []
    },
    {
      "cell_type": "code",
      "metadata": {
        "id": "tD1mWxsw607z",
        "colab_type": "code",
        "outputId": "d944a358-c579-41c7-e0e3-e885a13fdade",
        "colab": {
          "base_uri": "https://localhost:8080/",
          "height": 35
        }
      },
      "source": [
        "cd '/content/drive/My Drive/Colab Notebooks/Matrix'"
      ],
      "execution_count": 26,
      "outputs": [
        {
          "output_type": "stream",
          "text": [
            "/content/drive/My Drive/Colab Notebooks/Matrix\n"
          ],
          "name": "stdout"
        }
      ]
    },
    {
      "cell_type": "code",
      "metadata": {
        "id": "QXITREX47PWF",
        "colab_type": "code",
        "outputId": "2233f373-c96c-42c8-e1eb-0839ef342957",
        "colab": {
          "base_uri": "https://localhost:8080/",
          "height": 35
        }
      },
      "source": [
        "df = pd.read_csv('data/men_shoes.csv', low_memory=False)\n",
        "df.shape"
      ],
      "execution_count": 27,
      "outputs": [
        {
          "output_type": "execute_result",
          "data": {
            "text/plain": [
              "(18280, 49)"
            ]
          },
          "metadata": {
            "tags": []
          },
          "execution_count": 27
        }
      ]
    },
    {
      "cell_type": "code",
      "metadata": {
        "id": "xxRPhTtt7bNe",
        "colab_type": "code",
        "outputId": "7e3817e9-f42e-4cce-8d04-8db25a0e7ce0",
        "colab": {
          "base_uri": "https://localhost:8080/",
          "height": 230
        }
      },
      "source": [
        "df.columns"
      ],
      "execution_count": 28,
      "outputs": [
        {
          "output_type": "execute_result",
          "data": {
            "text/plain": [
              "Index(['Unnamed: 0', 'id', 'asins', 'brand', 'categories', 'colors', 'count',\n",
              "       'dateadded', 'dateupdated', 'descriptions', 'dimension', 'ean',\n",
              "       'features', 'flavors', 'imageurls', 'isbn', 'keys', 'manufacturer',\n",
              "       'manufacturernumber', 'merchants', 'name', 'prices_amountmin',\n",
              "       'prices_amountmax', 'prices_availability', 'prices_color',\n",
              "       'prices_condition', 'prices_count', 'prices_currency',\n",
              "       'prices_dateadded', 'prices_dateseen', 'prices_flavor', 'prices_issale',\n",
              "       'prices_merchant', 'prices_offer', 'prices_returnpolicy',\n",
              "       'prices_shipping', 'prices_size', 'prices_source', 'prices_sourceurls',\n",
              "       'prices_warranty', 'quantities', 'reviews', 'sizes', 'skus',\n",
              "       'sourceurls', 'upc', 'vin', 'websiteids', 'weight'],\n",
              "      dtype='object')"
            ]
          },
          "metadata": {
            "tags": []
          },
          "execution_count": 28
        }
      ]
    },
    {
      "cell_type": "code",
      "metadata": {
        "id": "UAxaH8MF3c5R",
        "colab_type": "code",
        "outputId": "8c68ddec-0ba1-4e81-8664-feb1210274ed",
        "colab": {
          "base_uri": "https://localhost:8080/",
          "height": 35
        }
      },
      "source": [
        "mean_price = np.mean(df['prices_amountmin'])\n",
        "mean_price"
      ],
      "execution_count": 29,
      "outputs": [
        {
          "output_type": "execute_result",
          "data": {
            "text/plain": [
              "93.53952188183217"
            ]
          },
          "metadata": {
            "tags": []
          },
          "execution_count": 29
        }
      ]
    },
    {
      "cell_type": "code",
      "metadata": {
        "id": "B2ZP4sby30Ta",
        "colab_type": "code",
        "outputId": "6e2ebfc8-84b9-4f7b-82fe-3f92aacff9f0",
        "colab": {
          "base_uri": "https://localhost:8080/",
          "height": 35
        }
      },
      "source": [
        "y_true = df['prices_amountmin']\n",
        "y_pred = [np.median(y_true)] * y_true.shape[0]\n",
        "\n",
        "mean_absolute_error(y_true, y_pred)"
      ],
      "execution_count": 30,
      "outputs": [
        {
          "output_type": "execute_result",
          "data": {
            "text/plain": [
              "58.01120240700219"
            ]
          },
          "metadata": {
            "tags": []
          },
          "execution_count": 30
        }
      ]
    },
    {
      "cell_type": "code",
      "metadata": {
        "id": "dUPL7h4aAOIu",
        "colab_type": "code",
        "outputId": "77a0b6c6-90dd-4b0e-d3c1-3348c6151622",
        "colab": {
          "base_uri": "https://localhost:8080/",
          "height": 283
        }
      },
      "source": [
        "np.log1p(df['prices_amountmin']).hist(bins=100)"
      ],
      "execution_count": 33,
      "outputs": [
        {
          "output_type": "execute_result",
          "data": {
            "text/plain": [
              "<matplotlib.axes._subplots.AxesSubplot at 0x7f49d595ea90>"
            ]
          },
          "metadata": {
            "tags": []
          },
          "execution_count": 33
        },
        {
          "output_type": "display_data",
          "data": {
            "image/png": "[encoded data removed]",
            "text/plain": [
              "<Figure size 432x288 with 1 Axes>"
            ]
          },
          "metadata": {
            "tags": []
          }
        }
      ]
    },
    {
      "cell_type": "code",
      "metadata": {
        "colab_type": "code",
        "outputId": "2f54823f-7d34-41fd-bc48-4b6d3afc501e",
        "id": "vbs_Cf0uDKcP",
        "colab": {
          "base_uri": "https://localhost:8080/",
          "height": 35
        }
      },
      "source": [
        "y_true = df['prices_amountmin']\n",
        "price_log_mean = np.expm1( np.mean( np.log1p(y_true ))) \n",
        "y_pred = [price_log_mean] * y_true.shape[0]\n",
        "\n",
        "mean_absolute_error(y_true, y_pred)"
      ],
      "execution_count": 38,
      "outputs": [
        {
          "output_type": "execute_result",
          "data": {
            "text/plain": [
              "58.03539547661041"
            ]
          },
          "metadata": {
            "tags": []
          },
          "execution_count": 38
        }
      ]
    },
    {
      "cell_type": "code",
      "metadata": {
        "id": "uVEgvL2aEgE4",
        "colab_type": "code",
        "colab": {
          "base_uri": "https://localhost:8080/",
          "height": 35
        },
        "outputId": "12dc4d0e-c271-4eda-d22f-3ef8d5c5e606"
      },
      "source": [
        "np.exp( np.mean( np.log1p(y_true ))) - 1"
      ],
      "execution_count": 36,
      "outputs": [
        {
          "output_type": "execute_result",
          "data": {
            "text/plain": [
              "62.92811169273113"
            ]
          },
          "metadata": {
            "tags": []
          },
          "execution_count": 36
        }
      ]
    },
    {
      "cell_type": "code",
      "metadata": {
        "id": "JmK6T29eE0qk",
        "colab_type": "code",
        "colab": {
          "base_uri": "https://localhost:8080/",
          "height": 230
        },
        "outputId": "17591fa2-650e-4fb7-eb9a-aa9859524459"
      },
      "source": [
        "df.brand.value_counts()"
      ],
      "execution_count": 39,
      "outputs": [
        {
          "output_type": "execute_result",
          "data": {
            "text/plain": [
              "Nike                           1709\n",
              "PUMA                            574\n",
              "Ralph Lauren                    524\n",
              "New Balance                     361\n",
              "VANS                            356\n",
              "                               ... \n",
              "Boston Harbour                    1\n",
              "Shrine Boxers                     1\n",
              "Adidas Crazy1 Kobe BB shoes       1\n",
              "Co7de                             1\n",
              "DanceNwear                        1\n",
              "Name: brand, Length: 1856, dtype: int64"
            ]
          },
          "metadata": {
            "tags": []
          },
          "execution_count": 39
        }
      ]
    },
    {
      "cell_type": "code",
      "metadata": {
        "id": "F_kTiUiHFoUh",
        "colab_type": "code",
        "colab": {}
      },
      "source": [
        "df['brand_cat'] = df['brand'].factorize()[0]"
      ],
      "execution_count": 0,
      "outputs": []
    },
    {
      "cell_type": "code",
      "metadata": {
        "id": "jEF3hiEKGNin",
        "colab_type": "code",
        "colab": {
          "base_uri": "https://localhost:8080/",
          "height": 35
        },
        "outputId": "91eb11c3-26c6-400c-d07d-e96637fcd084"
      },
      "source": [
        "feats = ['brand_cat']\n",
        "x = df[feats].values\n",
        "y = df['prices_amountmin']\n",
        "\n",
        "model = DecisionTreeRegressor(max_depth=5)\n",
        "\n",
        "scores = cross_val_score(model, x, y, scoring='neg_mean_absolute_error')\n",
        "np.mean(scores), np.std(scores)\n"
      ],
      "execution_count": 45,
      "outputs": [
        {
          "output_type": "execute_result",
          "data": {
            "text/plain": [
              "(-58.38655694633361, 4.223555478221712)"
            ]
          },
          "metadata": {
            "tags": []
          },
          "execution_count": 45
        }
      ]
    },
    {
      "cell_type": "code",
      "metadata": {
        "id": "pfc4ZORyHZ2R",
        "colab_type": "code",
        "colab": {}
      },
      "source": [
        "def run_model(feats):\n",
        "  x = df[feats].values\n",
        "  y = df['prices_amountmin']\n",
        "\n",
        "  model = DecisionTreeRegressor(max_depth=5)\n",
        "\n",
        "  scores = cross_val_score(model, x, y, scoring='neg_mean_absolute_error')\n",
        "  return np.mean(scores), np.std(scores)\n"
      ],
      "execution_count": 0,
      "outputs": []
    },
    {
      "cell_type": "code",
      "metadata": {
        "id": "Ox2_vncNHt9h",
        "colab_type": "code",
        "colab": {
          "base_uri": "https://localhost:8080/",
          "height": 35
        },
        "outputId": "a82b1072-cbd6-4d7d-f56e-08265b2d400d"
      },
      "source": [
        "run_model(['brand_cat'])"
      ],
      "execution_count": 48,
      "outputs": [
        {
          "output_type": "execute_result",
          "data": {
            "text/plain": [
              "(-58.38655694633361, 4.223555478221712)"
            ]
          },
          "metadata": {
            "tags": []
          },
          "execution_count": 48
        }
      ]
    },
    {
      "cell_type": "code",
      "metadata": {
        "id": "mx6INpMIIEnB",
        "colab_type": "code",
        "colab": {}
      },
      "source": [
        "df['flavors_cat'] = df['flavors'].factorize()[0]"
      ],
      "execution_count": 0,
      "outputs": []
    },
    {
      "cell_type": "code",
      "metadata": {
        "id": "-JzYKOMRIgSB",
        "colab_type": "code",
        "colab": {}
      },
      "source": [
        "def run_model(feats):\n",
        "  x = df[feats].values\n",
        "  y = df['prices_amountmin']\n",
        "\n",
        "  model = DecisionTreeRegressor(max_depth=5)\n",
        "\n",
        "  scores = cross_val_score(model, x, y, scoring='neg_mean_absolute_error')\n",
        "  return np.mean(scores), np.std(scores)"
      ],
      "execution_count": 0,
      "outputs": []
    },
    {
      "cell_type": "code",
      "metadata": {
        "id": "wnmAGeqQIoR8",
        "colab_type": "code",
        "colab": {
          "base_uri": "https://localhost:8080/",
          "height": 35
        },
        "outputId": "0739e109-905b-4421-9e2d-bcffe449c7a1"
      },
      "source": [
        "run_model(['flavors_cat'])"
      ],
      "execution_count": 51,
      "outputs": [
        {
          "output_type": "execute_result",
          "data": {
            "text/plain": [
              "(-64.00110841258031, 3.605273194168391)"
            ]
          },
          "metadata": {
            "tags": []
          },
          "execution_count": 51
        }
      ]
    },
    {
      "cell_type": "code",
      "metadata": {
        "id": "DhFJKbR9IwYi",
        "colab_type": "code",
        "colab": {
          "base_uri": "https://localhost:8080/",
          "height": 35
        },
        "outputId": "03f78975-2ac0-4761-83c0-ee2272177ca5"
      },
      "source": [
        "run_model(['brand_cat', 'flavors_cat'])"
      ],
      "execution_count": 52,
      "outputs": [
        {
          "output_type": "execute_result",
          "data": {
            "text/plain": [
              "(-58.38655694633361, 4.223555478221712)"
            ]
          },
          "metadata": {
            "tags": []
          },
          "execution_count": 52
        }
      ]
    },
    {
      "cell_type": "code",
      "metadata": {
        "id": "GI9H51uWI0Kw",
        "colab_type": "code",
        "colab": {}
      },
      "source": [
        ""
      ],
      "execution_count": 0,
      "outputs": []
    }
  ]
}