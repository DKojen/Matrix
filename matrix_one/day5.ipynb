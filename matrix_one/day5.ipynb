{
  "nbformat": 4,
  "nbformat_minor": 0,
  "metadata": {
    "colab": {
      "name": "day5.ipynb",
      "provenance": [],
      "mount_file_id": "1A802pMiz92EOLhLqy72sbE-sHZYPO7F1",
      "authorship_tag": "ABX9TyOSTnRn4qvHNrUheWFcf/py",
      "include_colab_link": true
    },
    "kernelspec": {
      "name": "python3",
      "display_name": "Python 3"
    },
    "widgets": {
      "application/vnd.jupyter.widget-state+json": {
        "bd69a7ddd5594accb576e23fcb6b9ca0": {
          "model_module": "@jupyter-widgets/controls",
          "model_name": "HBoxModel",
          "state": {
            "_view_name": "HBoxView",
            "_dom_classes": [],
            "_model_name": "HBoxModel",
            "_view_module": "@jupyter-widgets/controls",
            "_model_module_version": "1.5.0",
            "_view_count": null,
            "_view_module_version": "1.5.0",
            "box_style": "",
            "layout": "IPY_MODEL_cd44c71bb53a4829a40762d877ab9148",
            "_model_module": "@jupyter-widgets/controls",
            "children": [
              "IPY_MODEL_a13a0222438f44cc85a7b8b0dbe1fc27",
              "IPY_MODEL_27f4068c6733473c856713d822b0073f"
            ]
          }
        },
        "cd44c71bb53a4829a40762d877ab9148": {
          "model_module": "@jupyter-widgets/base",
          "model_name": "LayoutModel",
          "state": {
            "_view_name": "LayoutView",
            "grid_template_rows": null,
            "right": null,
            "justify_content": null,
            "_view_module": "@jupyter-widgets/base",
            "overflow": null,
            "_model_module_version": "1.2.0",
            "_view_count": null,
            "flex_flow": null,
            "width": null,
            "min_width": null,
            "border": null,
            "align_items": null,
            "bottom": null,
            "_model_module": "@jupyter-widgets/base",
            "top": null,
            "grid_column": null,
            "overflow_y": null,
            "overflow_x": null,
            "grid_auto_flow": null,
            "grid_area": null,
            "grid_template_columns": null,
            "flex": null,
            "_model_name": "LayoutModel",
            "justify_items": null,
            "grid_row": null,
            "max_height": null,
            "align_content": null,
            "visibility": null,
            "align_self": null,
            "height": null,
            "min_height": null,
            "padding": null,
            "grid_auto_rows": null,
            "grid_gap": null,
            "max_width": null,
            "order": null,
            "_view_module_version": "1.2.0",
            "grid_template_areas": null,
            "object_position": null,
            "object_fit": null,
            "grid_auto_columns": null,
            "margin": null,
            "display": null,
            "left": null
          }
        },
        "a13a0222438f44cc85a7b8b0dbe1fc27": {
          "model_module": "@jupyter-widgets/controls",
          "model_name": "IntProgressModel",
          "state": {
            "_view_name": "ProgressView",
            "style": "IPY_MODEL_fdb33132880243bcbb0291fc6ef7f36c",
            "_dom_classes": [],
            "description": "",
            "_model_name": "IntProgressModel",
            "bar_style": "success",
            "max": 476,
            "_view_module": "@jupyter-widgets/controls",
            "_model_module_version": "1.5.0",
            "value": 476,
            "_view_count": null,
            "_view_module_version": "1.5.0",
            "orientation": "horizontal",
            "min": 0,
            "description_tooltip": null,
            "_model_module": "@jupyter-widgets/controls",
            "layout": "IPY_MODEL_bef8a1a7795344ccb0ed0e885a253437"
          }
        },
        "27f4068c6733473c856713d822b0073f": {
          "model_module": "@jupyter-widgets/controls",
          "model_name": "HTMLModel",
          "state": {
            "_view_name": "HTMLView",
            "style": "IPY_MODEL_9bdcfd5b64b34d9f8510d2116450ae08",
            "_dom_classes": [],
            "description": "",
            "_model_name": "HTMLModel",
            "placeholder": "​",
            "_view_module": "@jupyter-widgets/controls",
            "_model_module_version": "1.5.0",
            "value": "100% 476/476 [00:04&lt;00:00, 109.47it/s]",
            "_view_count": null,
            "_view_module_version": "1.5.0",
            "description_tooltip": null,
            "_model_module": "@jupyter-widgets/controls",
            "layout": "IPY_MODEL_272a7f57c85f464b8b0a89f982f5856c"
          }
        },
        "fdb33132880243bcbb0291fc6ef7f36c": {
          "model_module": "@jupyter-widgets/controls",
          "model_name": "ProgressStyleModel",
          "state": {
            "_view_name": "StyleView",
            "_model_name": "ProgressStyleModel",
            "description_width": "",
            "_view_module": "@jupyter-widgets/base",
            "_model_module_version": "1.5.0",
            "_view_count": null,
            "_view_module_version": "1.2.0",
            "bar_color": null,
            "_model_module": "@jupyter-widgets/controls"
          }
        },
        "bef8a1a7795344ccb0ed0e885a253437": {
          "model_module": "@jupyter-widgets/base",
          "model_name": "LayoutModel",
          "state": {
            "_view_name": "LayoutView",
            "grid_template_rows": null,
            "right": null,
            "justify_content": null,
            "_view_module": "@jupyter-widgets/base",
            "overflow": null,
            "_model_module_version": "1.2.0",
            "_view_count": null,
            "flex_flow": null,
            "width": null,
            "min_width": null,
            "border": null,
            "align_items": null,
            "bottom": null,
            "_model_module": "@jupyter-widgets/base",
            "top": null,
            "grid_column": null,
            "overflow_y": null,
            "overflow_x": null,
            "grid_auto_flow": null,
            "grid_area": null,
            "grid_template_columns": null,
            "flex": null,
            "_model_name": "LayoutModel",
            "justify_items": null,
            "grid_row": null,
            "max_height": null,
            "align_content": null,
            "visibility": null,
            "align_self": null,
            "height": null,
            "min_height": null,
            "padding": null,
            "grid_auto_rows": null,
            "grid_gap": null,
            "max_width": null,
            "order": null,
            "_view_module_version": "1.2.0",
            "grid_template_areas": null,
            "object_position": null,
            "object_fit": null,
            "grid_auto_columns": null,
            "margin": null,
            "display": null,
            "left": null
          }
        },
        "9bdcfd5b64b34d9f8510d2116450ae08": {
          "model_module": "@jupyter-widgets/controls",
          "model_name": "DescriptionStyleModel",
          "state": {
            "_view_name": "StyleView",
            "_model_name": "DescriptionStyleModel",
            "description_width": "",
            "_view_module": "@jupyter-widgets/base",
            "_model_module_version": "1.5.0",
            "_view_count": null,
            "_view_module_version": "1.2.0",
            "_model_module": "@jupyter-widgets/controls"
          }
        },
        "272a7f57c85f464b8b0a89f982f5856c": {
          "model_module": "@jupyter-widgets/base",
          "model_name": "LayoutModel",
          "state": {
            "_view_name": "LayoutView",
            "grid_template_rows": null,
            "right": null,
            "justify_content": null,
            "_view_module": "@jupyter-widgets/base",
            "overflow": null,
            "_model_module_version": "1.2.0",
            "_view_count": null,
            "flex_flow": null,
            "width": null,
            "min_width": null,
            "border": null,
            "align_items": null,
            "bottom": null,
            "_model_module": "@jupyter-widgets/base",
            "top": null,
            "grid_column": null,
            "overflow_y": null,
            "overflow_x": null,
            "grid_auto_flow": null,
            "grid_area": null,
            "grid_template_columns": null,
            "flex": null,
            "_model_name": "LayoutModel",
            "justify_items": null,
            "grid_row": null,
            "max_height": null,
            "align_content": null,
            "visibility": null,
            "align_self": null,
            "height": null,
            "min_height": null,
            "padding": null,
            "grid_auto_rows": null,
            "grid_gap": null,
            "max_width": null,
            "order": null,
            "_view_module_version": "1.2.0",
            "grid_template_areas": null,
            "object_position": null,
            "object_fit": null,
            "grid_auto_columns": null,
            "margin": null,
            "display": null,
            "left": null
          }
        }
      }
    }
  },
  "cells": [
    {
      "cell_type": "markdown",
      "metadata": {
        "id": "view-in-github",
        "colab_type": "text"
      },
      "source": [
        "<a href=\"https://colab.research.google.com/github/DKojen/Matrix/blob/master/matrix_one/day5.ipynb\" target=\"_parent\"><img src=\"https://colab.research.google.com/assets/colab-badge.svg\" alt=\"Open In Colab\"/></a>"
      ]
    },
    {
      "cell_type": "code",
      "metadata": {
        "id": "joTwTpytgShA",
        "colab_type": "code",
        "colab": {
          "base_uri": "https://localhost:8080/",
          "height": 304
        },
        "outputId": "d09eb3d9-29bc-4b4a-8308-b2907ac1b099"
      },
      "source": [
        "!pip install eli5"
      ],
      "execution_count": 1,
      "outputs": [
        {
          "output_type": "stream",
          "text": [
            "Collecting eli5\n",
            "\u001b[?25l  Downloading https://files.pythonhosted.org/packages/97/2f/c85c7d8f8548e460829971785347e14e45fa5c6617da374711dec8cb38cc/eli5-0.10.1-py2.py3-none-any.whl (105kB)\n",
            "\r\u001b[K     |███                             | 10kB 15.0MB/s eta 0:00:01\r\u001b[K     |██████▏                         | 20kB 1.9MB/s eta 0:00:01\r\u001b[K     |█████████▎                      | 30kB 2.8MB/s eta 0:00:01\r\u001b[K     |████████████▍                   | 40kB 1.8MB/s eta 0:00:01\r\u001b[K     |███████████████▌                | 51kB 2.3MB/s eta 0:00:01\r\u001b[K     |██████████████████▋             | 61kB 2.7MB/s eta 0:00:01\r\u001b[K     |█████████████████████▊          | 71kB 3.1MB/s eta 0:00:01\r\u001b[K     |████████████████████████▊       | 81kB 3.5MB/s eta 0:00:01\r\u001b[K     |███████████████████████████▉    | 92kB 3.9MB/s eta 0:00:01\r\u001b[K     |███████████████████████████████ | 102kB 3.0MB/s eta 0:00:01\r\u001b[K     |████████████████████████████████| 112kB 3.0MB/s \n",
            "\u001b[?25hRequirement already satisfied: tabulate>=0.7.7 in /usr/local/lib/python3.6/dist-packages (from eli5) (0.8.6)\n",
            "Requirement already satisfied: jinja2 in /usr/local/lib/python3.6/dist-packages (from eli5) (2.11.1)\n",
            "Requirement already satisfied: numpy>=1.9.0 in /usr/local/lib/python3.6/dist-packages (from eli5) (1.17.5)\n",
            "Requirement already satisfied: attrs>16.0.0 in /usr/local/lib/python3.6/dist-packages (from eli5) (19.3.0)\n",
            "Requirement already satisfied: scikit-learn>=0.18 in /usr/local/lib/python3.6/dist-packages (from eli5) (0.22.1)\n",
            "Requirement already satisfied: six in /usr/local/lib/python3.6/dist-packages (from eli5) (1.12.0)\n",
            "Requirement already satisfied: graphviz in /usr/local/lib/python3.6/dist-packages (from eli5) (0.10.1)\n",
            "Requirement already satisfied: scipy in /usr/local/lib/python3.6/dist-packages (from eli5) (1.4.1)\n",
            "Requirement already satisfied: MarkupSafe>=0.23 in /usr/local/lib/python3.6/dist-packages (from jinja2->eli5) (1.1.1)\n",
            "Requirement already satisfied: joblib>=0.11 in /usr/local/lib/python3.6/dist-packages (from scikit-learn>=0.18->eli5) (0.14.1)\n",
            "Installing collected packages: eli5\n",
            "Successfully installed eli5-0.10.1\n"
          ],
          "name": "stdout"
        }
      ]
    },
    {
      "cell_type": "code",
      "metadata": {
        "id": "4Is1B_rBgYok",
        "colab_type": "code",
        "colab": {}
      },
      "source": [
        "import pandas as pd\n",
        "import numpy as np\n",
        "from sklearn.tree import DecisionTreeRegressor\n",
        "from sklearn.ensemble import RandomForestRegressor\n",
        "\n",
        "from sklearn.metrics import mean_absolute_error\n",
        "from sklearn.model_selection import cross_val_score\n",
        "\n",
        "import eli5\n",
        "from eli5.sklearn import PermutationImportance\n",
        "\n",
        "from ast import literal_eval\n",
        "from tqdm import tqdm_notebook\n"
      ],
      "execution_count": 0,
      "outputs": []
    },
    {
      "cell_type": "code",
      "metadata": {
        "id": "RqE78bl9hGgS",
        "colab_type": "code",
        "colab": {
          "base_uri": "https://localhost:8080/",
          "height": 35
        },
        "outputId": "65c61adc-97d2-4062-e690-3f4c21e677e9"
      },
      "source": [
        "cd \"/content/drive/My Drive/Colab Notebooks/Matrix\""
      ],
      "execution_count": 5,
      "outputs": [
        {
          "output_type": "stream",
          "text": [
            "/content/drive/My Drive/Colab Notebooks/Matrix\n"
          ],
          "name": "stdout"
        }
      ]
    },
    {
      "cell_type": "code",
      "metadata": {
        "id": "vcq-hQoShO1w",
        "colab_type": "code",
        "colab": {
          "base_uri": "https://localhost:8080/",
          "height": 35
        },
        "outputId": "2be20b13-3770-497e-d8f0-11fbf57a2122"
      },
      "source": [
        "ls data"
      ],
      "execution_count": 8,
      "outputs": [
        {
          "output_type": "stream",
          "text": [
            "men_shoes.csv\n"
          ],
          "name": "stdout"
        }
      ]
    },
    {
      "cell_type": "code",
      "metadata": {
        "id": "aUEcA2cbhP7G",
        "colab_type": "code",
        "colab": {}
      },
      "source": [
        "df = pd.read_csv('data/men_shoes.csv', low_memory=False)"
      ],
      "execution_count": 0,
      "outputs": []
    },
    {
      "cell_type": "code",
      "metadata": {
        "id": "J_2i66VQhe5l",
        "colab_type": "code",
        "colab": {}
      },
      "source": [
        "def run_model(feats):\n",
        "  x = df[feats].values\n",
        "  y = df['prices_amountmin']\n",
        "\n",
        "  model = DecisionTreeRegressor(max_depth=5)\n",
        "\n",
        "  scores = cross_val_score(model, x, y, scoring='neg_mean_absolute_error')\n",
        "  return np.mean(scores), np.std(scores)"
      ],
      "execution_count": 0,
      "outputs": []
    },
    {
      "cell_type": "code",
      "metadata": {
        "id": "wqDIMf0Nidy6",
        "colab_type": "code",
        "colab": {
          "base_uri": "https://localhost:8080/",
          "height": 35
        },
        "outputId": "aa3c3f1b-107e-4f4f-e788-5010ae6e7ff9"
      },
      "source": [
        "df['brand_cat'] = df['brand'].map(lambda x: str(x).lower()).factorize()[0]\n",
        "run_model(['brand_cat'])"
      ],
      "execution_count": 18,
      "outputs": [
        {
          "output_type": "execute_result",
          "data": {
            "text/plain": [
              "(-58.133398968282776, 4.206122611474276)"
            ]
          },
          "metadata": {
            "tags": []
          },
          "execution_count": 18
        }
      ]
    },
    {
      "cell_type": "markdown",
      "metadata": {
        "id": "XUOrHcMPkJWe",
        "colab_type": "text"
      },
      "source": [
        "-58 to średnie odchylenie bezwzględne. Model średnio zgaduje z dokładnością +/- 58USD. Miara pozwala nam zobaczyć jak model dopasowwywuje się do danych orginalnych. Możemy wziąć inną cechę żeby porównać jej wynik średniego odchylenia bezwzględnego np jeśli dla features będzie to +/-30USD to model z tą cechą będzie lepszy. Możemy również użyc zupełnie innego modelu."
      ]
    },
    {
      "cell_type": "code",
      "metadata": {
        "id": "Dqf1O40plKrg",
        "colab_type": "code",
        "colab": {
          "base_uri": "https://localhost:8080/",
          "height": 205
        },
        "outputId": "21a66d1a-6ad9-4356-dbe6-1759dc16821a"
      },
      "source": [
        "model = RandomForestRegressor(max_depth = 5, n_estimators = 100, random_state=0)\n",
        "run_model(['brand_cat'], model)"
      ],
      "execution_count": 16,
      "outputs": [
        {
          "output_type": "error",
          "ename": "TypeError",
          "evalue": "ignored",
          "traceback": [
            "\u001b[0;31m---------------------------------------------------------------------------\u001b[0m",
            "\u001b[0;31mTypeError\u001b[0m                                 Traceback (most recent call last)",
            "\u001b[0;32m<ipython-input-16-f4d8b124f321>\u001b[0m in \u001b[0;36m<module>\u001b[0;34m()\u001b[0m\n\u001b[1;32m      1\u001b[0m \u001b[0mmodel\u001b[0m \u001b[0;34m=\u001b[0m \u001b[0mRandomForestRegressor\u001b[0m\u001b[0;34m(\u001b[0m\u001b[0mmax_depth\u001b[0m \u001b[0;34m=\u001b[0m \u001b[0;36m5\u001b[0m\u001b[0;34m,\u001b[0m \u001b[0mn_estimators\u001b[0m \u001b[0;34m=\u001b[0m \u001b[0;36m100\u001b[0m\u001b[0;34m,\u001b[0m \u001b[0mrandom_state\u001b[0m\u001b[0;34m=\u001b[0m\u001b[0;36m0\u001b[0m\u001b[0;34m)\u001b[0m\u001b[0;34m\u001b[0m\u001b[0;34m\u001b[0m\u001b[0m\n\u001b[0;32m----> 2\u001b[0;31m \u001b[0mrun_model\u001b[0m\u001b[0;34m(\u001b[0m\u001b[0;34m[\u001b[0m\u001b[0;34m'brand_cat'\u001b[0m\u001b[0;34m]\u001b[0m\u001b[0;34m,\u001b[0m \u001b[0mmodel\u001b[0m\u001b[0;34m)\u001b[0m\u001b[0;34m\u001b[0m\u001b[0;34m\u001b[0m\u001b[0m\n\u001b[0m",
            "\u001b[0;31mTypeError\u001b[0m: run_model() takes 1 positional argument but 2 were given"
          ]
        }
      ]
    },
    {
      "cell_type": "code",
      "metadata": {
        "id": "LwhauQcTis0x",
        "colab_type": "code",
        "colab": {
          "base_uri": "https://localhost:8080/",
          "height": 144
        },
        "outputId": "802680de-1762-4851-8b37-0880e0188432"
      },
      "source": [
        "df.features.head().values"
      ],
      "execution_count": 20,
      "outputs": [
        {
          "output_type": "execute_result",
          "data": {
            "text/plain": [
              "array(['[{\"key\":\"Gender\",\"value\":[\"Men\"]},{\"key\":\"Shoe Size\",\"value\":[\"M\"]},{\"key\":\"Shoe Category\",\"value\":[\"Men\\'s Shoes\"]},{\"key\":\"Color\",\"value\":[\"Multicolor\"]},{\"key\":\"Manufacturer Part Number\",\"value\":[\"8190-W-NAVY-7.5\"]},{\"key\":\"Brand\",\"value\":[\"Josmo\"]}]',\n",
              "       '[{\"key\":\"Gender\",\"value\":[\"Men\"]},{\"key\":\"Shoe Size\",\"value\":[\"M\"]},{\"key\":\"Shoe Category\",\"value\":[\"Men\\'s Shoes\"]},{\"key\":\"Color\",\"value\":[\"Multicolor\"]},{\"key\":\"Manufacturer Part Number\",\"value\":[\"8190-W-NAVY-7.5\"]},{\"key\":\"Brand\",\"value\":[\"Josmo\"]}]',\n",
              "       '[{\"key\":\"Gender\",\"value\":[\"Men\"]},{\"key\":\"Color\",\"value\":[\"Black\"]},{\"key\":\"Shipping Weight (in pounds)\",\"value\":[\"0.45\"]},{\"key\":\"Condition\",\"value\":[\"New\"]},{\"key\":\"Brand\",\"value\":[\"SERVUS BY HONEYWELL\"]},{\"key\":\"manufacturer_part_number\",\"value\":[\"ZSR101BLMLG\"]}]',\n",
              "       '[{\"key\":\"Gender\",\"value\":[\"Men\"]},{\"key\":\"Color\",\"value\":[\"Black\"]},{\"key\":\"Shipping Weight (in pounds)\",\"value\":[\"0.45\"]},{\"key\":\"Condition\",\"value\":[\"New\"]},{\"key\":\"Brand\",\"value\":[\"SERVUS BY HONEYWELL\"]},{\"key\":\"manufacturer_part_number\",\"value\":[\"ZSR101BLMLG\"]}]',\n",
              "       '[{\"key\":\"Gender\",\"value\":[\"Men\"]},{\"key\":\"Color\",\"value\":[\"Black\"]},{\"key\":\"Shipping Weight (in pounds)\",\"value\":[\"0.45\"]},{\"key\":\"Condition\",\"value\":[\"New\"]},{\"key\":\"Brand\",\"value\":[\"SERVUS BY HONEYWELL\"]},{\"key\":\"manufacturer_part_number\",\"value\":[\"ZSR101BLMLG\"]}]'],\n",
              "      dtype=object)"
            ]
          },
          "metadata": {
            "tags": []
          },
          "execution_count": 20
        }
      ]
    },
    {
      "cell_type": "code",
      "metadata": {
        "id": "bK2Ogawinj_B",
        "colab_type": "code",
        "colab": {
          "base_uri": "https://localhost:8080/",
          "height": 124
        },
        "outputId": "0d3f73f0-4887-4e2a-bd9a-cd3a28944d03"
      },
      "source": [
        "str_dict = '[{\"key\":\"Gender\",\"value\":[\"Men\"]},{\"key\":\"Shoe Size\",\"value\":[\"M\"]},{\"key\":\"Shoe Category\",\"value\":[\"Men\\'s Shoes\"]},{\"key\":\"Color\",\"value\":[\"Multicolor\"]},{\"key\":\"Manufacturer Part Number\",\"value\":[\"8190-W-NAVY-7.5\"]},{\"key\":\"Brand\",\"value\":[\"Josmo\"]}]'\n",
        "\n",
        "literal_eval(str_dict)"
      ],
      "execution_count": 22,
      "outputs": [
        {
          "output_type": "execute_result",
          "data": {
            "text/plain": [
              "[{'key': 'Gender', 'value': ['Men']},\n",
              " {'key': 'Shoe Size', 'value': ['M']},\n",
              " {'key': 'Shoe Category', 'value': [\"Men's Shoes\"]},\n",
              " {'key': 'Color', 'value': ['Multicolor']},\n",
              " {'key': 'Manufacturer Part Number', 'value': ['8190-W-NAVY-7.5']},\n",
              " {'key': 'Brand', 'value': ['Josmo']}]"
            ]
          },
          "metadata": {
            "tags": []
          },
          "execution_count": 22
        }
      ]
    },
    {
      "cell_type": "code",
      "metadata": {
        "id": "0mEhT8Ptpsq4",
        "colab_type": "code",
        "colab": {}
      },
      "source": [
        "def parse_features(x):\n",
        "  output_dict = {}\n",
        "  if str(x) == 'nan': return output_dict\n",
        "\n",
        "  features = literal_eval(x.replace('\\\\\"', '\"'))\n",
        "  for item in features:\n",
        "    key = item['key'].lower().strip()\n",
        "    value = item['value'][0].lower().strip()\n",
        "\n",
        "    output_dict[key] = value\n",
        "\n",
        "  return output_dict\n",
        "\n",
        "df['features_parsed'] = df['features'].map(parse_features)"
      ],
      "execution_count": 0,
      "outputs": []
    },
    {
      "cell_type": "code",
      "metadata": {
        "id": "G92-sT3-5MQq",
        "colab_type": "code",
        "colab": {
          "base_uri": "https://localhost:8080/",
          "height": 144
        },
        "outputId": "042a0edb-07a8-4402-9228-45648ffe4238"
      },
      "source": [
        "df['features_parsed'].head().values"
      ],
      "execution_count": 32,
      "outputs": [
        {
          "output_type": "execute_result",
          "data": {
            "text/plain": [
              "array([{'gender': 'men', 'shoe size': 'm', 'shoe category': \"men's shoes\", 'color': 'multicolor', 'manufacturer part number': '8190-w-navy-7.5', 'brand': 'josmo'},\n",
              "       {'gender': 'men', 'shoe size': 'm', 'shoe category': \"men's shoes\", 'color': 'multicolor', 'manufacturer part number': '8190-w-navy-7.5', 'brand': 'josmo'},\n",
              "       {'gender': 'men', 'color': 'black', 'shipping weight (in pounds)': '0.45', 'condition': 'new', 'brand': 'servus by honeywell', 'manufacturer_part_number': 'zsr101blmlg'},\n",
              "       {'gender': 'men', 'color': 'black', 'shipping weight (in pounds)': '0.45', 'condition': 'new', 'brand': 'servus by honeywell', 'manufacturer_part_number': 'zsr101blmlg'},\n",
              "       {'gender': 'men', 'color': 'black', 'shipping weight (in pounds)': '0.45', 'condition': 'new', 'brand': 'servus by honeywell', 'manufacturer_part_number': 'zsr101blmlg'}],\n",
              "      dtype=object)"
            ]
          },
          "metadata": {
            "tags": []
          },
          "execution_count": 32
        }
      ]
    },
    {
      "cell_type": "code",
      "metadata": {
        "id": "rLnVcjEK7A2w",
        "colab_type": "code",
        "colab": {
          "base_uri": "https://localhost:8080/",
          "height": 35
        },
        "outputId": "be45e537-57c7-4815-a391-537b5ade262e"
      },
      "source": [
        "keys = set()\n",
        "\n",
        "df['features_parsed'].map( lambda x: keys.update(x.keys()))\n",
        "len(keys)"
      ],
      "execution_count": 34,
      "outputs": [
        {
          "output_type": "execute_result",
          "data": {
            "text/plain": [
              "476"
            ]
          },
          "metadata": {
            "tags": []
          },
          "execution_count": 34
        }
      ]
    },
    {
      "cell_type": "code",
      "metadata": {
        "id": "ZLqimNGM7N0p",
        "colab_type": "code",
        "colab": {
          "base_uri": "https://localhost:8080/",
          "height": 67,
          "referenced_widgets": [
            "bd69a7ddd5594accb576e23fcb6b9ca0",
            "cd44c71bb53a4829a40762d877ab9148",
            "a13a0222438f44cc85a7b8b0dbe1fc27",
            "27f4068c6733473c856713d822b0073f",
            "fdb33132880243bcbb0291fc6ef7f36c",
            "bef8a1a7795344ccb0ed0e885a253437",
            "9bdcfd5b64b34d9f8510d2116450ae08",
            "272a7f57c85f464b8b0a89f982f5856c"
          ]
        },
        "outputId": "184e87cc-d4f2-4ec7-fc1d-32757c45f8d0"
      },
      "source": [
        "def get_name_feat(key):\n",
        "  return 'feat_' + key\n",
        "for key in tqdm_notebook(keys):\n",
        "  df[get_name_feat(key)] = df.features_parsed.map(lambda feats: feats[key] if key in feats else np.nan)"
      ],
      "execution_count": 35,
      "outputs": [
        {
          "output_type": "display_data",
          "data": {
            "application/vnd.jupyter.widget-view+json": {
              "model_id": "bd69a7ddd5594accb576e23fcb6b9ca0",
              "version_minor": 0,
              "version_major": 2
            },
            "text/plain": [
              "HBox(children=(IntProgress(value=0, max=476), HTML(value='')))"
            ]
          },
          "metadata": {
            "tags": []
          }
        },
        {
          "output_type": "stream",
          "text": [
            "\n"
          ],
          "name": "stdout"
        }
      ]
    },
    {
      "cell_type": "code",
      "metadata": {
        "id": "IPV-enyc9IoD",
        "colab_type": "code",
        "colab": {
          "base_uri": "https://localhost:8080/",
          "height": 159
        },
        "outputId": "7b87641a-d179-47dc-db73-92a6bc659c87"
      },
      "source": [
        "df.columns"
      ],
      "execution_count": 36,
      "outputs": [
        {
          "output_type": "execute_result",
          "data": {
            "text/plain": [
              "Index(['Unnamed: 0', 'id', 'asins', 'brand', 'categories', 'colors', 'count',\n",
              "       'dateadded', 'dateupdated', 'descriptions',\n",
              "       ...\n",
              "       'feat_productgroup', 'feat_shipping weight',\n",
              "       'feat_elastic banded waist', 'feat_is waterproof', 'feat_shade',\n",
              "       'feat_has expiration', 'feat_country of origin components:',\n",
              "       'feat_closure style', 'feat_upper material', 'feat_lens color'],\n",
              "      dtype='object', length=527)"
            ]
          },
          "metadata": {
            "tags": []
          },
          "execution_count": 36
        }
      ]
    },
    {
      "cell_type": "code",
      "metadata": {
        "id": "GxqymTfN9Kdm",
        "colab_type": "code",
        "colab": {}
      },
      "source": [
        "keys_stat = {}\n",
        "for key in keys:\n",
        "  keys_stat[key]= df[False == df[get_name_feat(key)].isnull()].shape[0]/df.shape[0]*100\n"
      ],
      "execution_count": 0,
      "outputs": []
    },
    {
      "cell_type": "code",
      "metadata": {
        "id": "3YGGDdN19SdP",
        "colab_type": "code",
        "colab": {
          "base_uri": "https://localhost:8080/",
          "height": 106
        },
        "outputId": "d2b5a395-e0df-4d88-ee31-50f56280dd25"
      },
      "source": [
        "{k:v for k,v in keys_stat.items() if v> 30} #szukamy atrybutów które występują najczęściej wśród danych"
      ],
      "execution_count": 45,
      "outputs": [
        {
          "output_type": "execute_result",
          "data": {
            "text/plain": [
              "{'brand': 48.62691466083151,\n",
              " 'color': 47.784463894967175,\n",
              " 'gender': 50.17505470459519,\n",
              " 'manufacturer part number': 36.252735229759296,\n",
              " 'material': 34.9070021881838}"
            ]
          },
          "metadata": {
            "tags": []
          },
          "execution_count": 45
        }
      ]
    },
    {
      "cell_type": "code",
      "metadata": {
        "id": "Pg1mUMU1-zXS",
        "colab_type": "code",
        "colab": {}
      },
      "source": [
        "df['feat_brand_cat'] = df['feat_brand'].factorize()[0]\n",
        "df['feat_color_cat'] = df['feat_color'].factorize()[0]\n",
        "df['feat_gender_cat'] = df['feat_gender'].factorize()[0]\n",
        "df['feat_manufacturer part number_cat'] = df['feat_manufacturer part number'].factorize()[0]\n",
        "df['feat_material_cat'] = df['feat_material'].factorize()[0]\n",
        "\n",
        "df['feat_sport_cat'] = df['feat_sport'].factorize()[0]\n",
        "df['feat_style_cat'] = df['feat_style'].factorize()[0]\n",
        "df['feat_shape_cat'] = df['feat_shape'].factorize()[0]\n"
      ],
      "execution_count": 0,
      "outputs": []
    },
    {
      "cell_type": "code",
      "metadata": {
        "id": "PCTrOcAS_bF2",
        "colab_type": "code",
        "colab": {
          "base_uri": "https://localhost:8080/",
          "height": 35
        },
        "outputId": "8eaf3b23-b544-4ed0-cae9-fc8a8e8fce6c"
      },
      "source": [
        "df['brand'] = df['brand'].map(lambda x: str(x).lower() )\n",
        "df [df.brand == df.feat_brand ].shape"
      ],
      "execution_count": 48,
      "outputs": [
        {
          "output_type": "execute_result",
          "data": {
            "text/plain": [
              "(8846, 532)"
            ]
          },
          "metadata": {
            "tags": []
          },
          "execution_count": 48
        }
      ]
    },
    {
      "cell_type": "code",
      "metadata": {
        "id": "1gwEZo4s_8oL",
        "colab_type": "code",
        "colab": {
          "base_uri": "https://localhost:8080/",
          "height": 337
        },
        "outputId": "5e37fca5-1560-40f1-d5a3-489485e67a1c"
      },
      "source": [
        "feats_cat = [x for x in df.columns if 'cat' in x ]\n",
        "feats_cat"
      ],
      "execution_count": 72,
      "outputs": [
        {
          "output_type": "execute_result",
          "data": {
            "text/plain": [
              "['categories',\n",
              " 'brand_cat',\n",
              " 'feat_clothing category',\n",
              " 'feat_recommended location',\n",
              " 'feat_certifications and listings',\n",
              " 'feat_shoe category',\n",
              " 'feat_location - city/state',\n",
              " 'feat_location - country',\n",
              " 'feat_multi pack indicator',\n",
              " 'feat_fabrication',\n",
              " 'feat_catalog',\n",
              " 'feat_brand_cat',\n",
              " 'feat_color_cat',\n",
              " 'feat_gender_cat',\n",
              " 'feat_manufacturer part number_cat',\n",
              " 'feat_material_cat',\n",
              " 'feat_sport_cat',\n",
              " 'feat_style_cat']"
            ]
          },
          "metadata": {
            "tags": []
          },
          "execution_count": 72
        }
      ]
    },
    {
      "cell_type": "code",
      "metadata": {
        "id": "lv8flaX6-UFU",
        "colab_type": "code",
        "colab": {}
      },
      "source": [
        "feats = ['brand_cat','feat_shape_cat', 'feat_style_cat', 'feat_brand_cat','feat_gender_cat','feat_material_cat']\n",
        "#feats += feats_cat\n",
        "#feats = list(set(feats))\n",
        "\n",
        "model = RandomForestRegressor(max_depth=5, n_estimators=100)\n",
        "result = run_model(feats,model)"
      ],
      "execution_count": 0,
      "outputs": []
    },
    {
      "cell_type": "code",
      "metadata": {
        "id": "CHTSKA1cAIMb",
        "colab_type": "code",
        "colab": {
          "base_uri": "https://localhost:8080/",
          "height": 154
        },
        "outputId": "4f3098ab-6517-4394-f0dc-ff6505ae565a"
      },
      "source": [
        "x = df[feats].values\n",
        "y = df['prices_amountmin'].values\n",
        "m = RandomForestRegressor (max_depth=5, n_estimators=100, random_state=0)\n",
        "m.fit(x,y)\n",
        "\n",
        "print(result)\n",
        "perm = PermutationImportance(m,random_state=1).fit(x,y);\n",
        "eli5.show_weights(perm, feature_names=feats)"
      ],
      "execution_count": 81,
      "outputs": [
        {
          "output_type": "stream",
          "text": [
            "(-58.354960581809095, 4.26089691178124)\n"
          ],
          "name": "stdout"
        },
        {
          "output_type": "execute_result",
          "data": {
            "text/html": [
              "\n",
              "    <style>\n",
              "    table.eli5-weights tr:hover {\n",
              "        filter: brightness(85%);\n",
              "    }\n",
              "</style>\n",
              "\n",
              "\n",
              "\n",
              "    \n",
              "\n",
              "    \n",
              "\n",
              "    \n",
              "\n",
              "    \n",
              "\n",
              "    \n",
              "\n",
              "    \n",
              "\n",
              "\n",
              "    \n",
              "\n",
              "    \n",
              "\n",
              "    \n",
              "\n",
              "    \n",
              "\n",
              "    \n",
              "\n",
              "    \n",
              "\n",
              "\n",
              "    \n",
              "\n",
              "    \n",
              "\n",
              "    \n",
              "\n",
              "    \n",
              "\n",
              "    \n",
              "        <table class=\"eli5-weights eli5-feature-importances\" style=\"border-collapse: collapse; border: none; margin-top: 0em; table-layout: auto;\">\n",
              "    <thead>\n",
              "    <tr style=\"border: none;\">\n",
              "        <th style=\"padding: 0 1em 0 0.5em; text-align: right; border: none;\">Weight</th>\n",
              "        <th style=\"padding: 0 0.5em 0 0.5em; text-align: left; border: none;\">Feature</th>\n",
              "    </tr>\n",
              "    </thead>\n",
              "    <tbody>\n",
              "    \n",
              "        <tr style=\"background-color: hsl(120, 100.00%, 80.00%); border: none;\">\n",
              "            <td style=\"padding: 0 1em 0 0.5em; text-align: right; border: none;\">\n",
              "                0.2618\n",
              "                \n",
              "                    &plusmn; 0.0112\n",
              "                \n",
              "            </td>\n",
              "            <td style=\"padding: 0 0.5em 0 0.5em; text-align: left; border: none;\">\n",
              "                brand_cat\n",
              "            </td>\n",
              "        </tr>\n",
              "    \n",
              "        <tr style=\"background-color: hsl(120, 100.00%, 89.15%); border: none;\">\n",
              "            <td style=\"padding: 0 1em 0 0.5em; text-align: right; border: none;\">\n",
              "                0.1092\n",
              "                \n",
              "                    &plusmn; 0.0115\n",
              "                \n",
              "            </td>\n",
              "            <td style=\"padding: 0 0.5em 0 0.5em; text-align: left; border: none;\">\n",
              "                feat_material_cat\n",
              "            </td>\n",
              "        </tr>\n",
              "    \n",
              "        <tr style=\"background-color: hsl(120, 100.00%, 96.36%); border: none;\">\n",
              "            <td style=\"padding: 0 1em 0 0.5em; text-align: right; border: none;\">\n",
              "                0.0230\n",
              "                \n",
              "                    &plusmn; 0.0031\n",
              "                \n",
              "            </td>\n",
              "            <td style=\"padding: 0 0.5em 0 0.5em; text-align: left; border: none;\">\n",
              "                feat_gender_cat\n",
              "            </td>\n",
              "        </tr>\n",
              "    \n",
              "        <tr style=\"background-color: hsl(120, 100.00%, 96.51%); border: none;\">\n",
              "            <td style=\"padding: 0 1em 0 0.5em; text-align: right; border: none;\">\n",
              "                0.0217\n",
              "                \n",
              "                    &plusmn; 0.0017\n",
              "                \n",
              "            </td>\n",
              "            <td style=\"padding: 0 0.5em 0 0.5em; text-align: left; border: none;\">\n",
              "                feat_brand_cat\n",
              "            </td>\n",
              "        </tr>\n",
              "    \n",
              "        <tr style=\"background-color: hsl(120, 100.00%, 97.47%); border: none;\">\n",
              "            <td style=\"padding: 0 1em 0 0.5em; text-align: right; border: none;\">\n",
              "                0.0137\n",
              "                \n",
              "                    &plusmn; 0.0012\n",
              "                \n",
              "            </td>\n",
              "            <td style=\"padding: 0 0.5em 0 0.5em; text-align: left; border: none;\">\n",
              "                feat_shape_cat\n",
              "            </td>\n",
              "        </tr>\n",
              "    \n",
              "        <tr style=\"background-color: hsl(120, 100.00%, 98.89%); border: none;\">\n",
              "            <td style=\"padding: 0 1em 0 0.5em; text-align: right; border: none;\">\n",
              "                0.0042\n",
              "                \n",
              "                    &plusmn; 0.0010\n",
              "                \n",
              "            </td>\n",
              "            <td style=\"padding: 0 0.5em 0 0.5em; text-align: left; border: none;\">\n",
              "                feat_style_cat\n",
              "            </td>\n",
              "        </tr>\n",
              "    \n",
              "    \n",
              "    </tbody>\n",
              "</table>\n",
              "    \n",
              "\n",
              "    \n",
              "\n",
              "\n",
              "    \n",
              "\n",
              "    \n",
              "\n",
              "    \n",
              "\n",
              "    \n",
              "\n",
              "    \n",
              "\n",
              "    \n",
              "\n",
              "\n",
              "\n"
            ],
            "text/plain": [
              "<IPython.core.display.HTML object>"
            ]
          },
          "metadata": {
            "tags": []
          },
          "execution_count": 81
        }
      ]
    },
    {
      "cell_type": "markdown",
      "metadata": {
        "id": "fZc5N7qGDFn8",
        "colab_type": "text"
      },
      "source": [
        "Okazuje się że feat_manufacturer part number nie jest istotną cechą zatem ją usuwamy z modelu"
      ]
    },
    {
      "cell_type": "code",
      "metadata": {
        "id": "LZHEB0N_DYli",
        "colab_type": "code",
        "colab": {
          "base_uri": "https://localhost:8080/",
          "height": 230
        },
        "outputId": "e1b7e668-4725-467b-c374-bda86dc9ddaf"
      },
      "source": [
        "df['brand'].value_counts(normalize=True)"
      ],
      "execution_count": 59,
      "outputs": [
        {
          "output_type": "execute_result",
          "data": {
            "text/plain": [
              "nike             0.097210\n",
              "puma             0.033315\n",
              "ralph lauren     0.028775\n",
              "vans             0.021116\n",
              "new balance      0.020295\n",
              "                   ...   \n",
              "sessions         0.000055\n",
              "neumann          0.000055\n",
              "walk over        0.000055\n",
              "plixio           0.000055\n",
              "caribbean joe    0.000055\n",
              "Name: brand, Length: 1732, dtype: float64"
            ]
          },
          "metadata": {
            "tags": []
          },
          "execution_count": 59
        }
      ]
    },
    {
      "cell_type": "code",
      "metadata": {
        "id": "P6NtikAODsRf",
        "colab_type": "code",
        "colab": {
          "base_uri": "https://localhost:8080/",
          "height": 126
        },
        "outputId": "29c18820-0026-444d-ac46-d2886b4c4962"
      },
      "source": [
        "df[ df['brand'] == 'nike'].features_parsed.head().values"
      ],
      "execution_count": 60,
      "outputs": [
        {
          "output_type": "execute_result",
          "data": {
            "text/plain": [
              "array([{'sport': 'soccer', 'main color': 'orange', 'type': 'cleats', 'condition': 'new without box'},\n",
              "       {'sport': 'soccer', 'main color': 'orange', 'type': 'cleats', 'condition': 'new without box'},\n",
              "       {'sport': 'soccer', 'main color': 'orange', 'type': 'cleats', 'condition': 'new without box'},\n",
              "       {'style': 'athletic sneakers', 'condition': 'new with box'}, {}],\n",
              "      dtype=object)"
            ]
          },
          "metadata": {
            "tags": []
          },
          "execution_count": 60
        }
      ]
    },
    {
      "cell_type": "code",
      "metadata": {
        "id": "ukPfByJKED6r",
        "colab_type": "code",
        "colab": {
          "base_uri": "https://localhost:8080/",
          "height": 72
        },
        "outputId": "f5d1bcfa-78de-4f90-ba03-6140bb313b13"
      },
      "source": [
        "df[ df['brand'] == 'nike'].features_parsed.sample().values"
      ],
      "execution_count": 64,
      "outputs": [
        {
          "output_type": "execute_result",
          "data": {
            "text/plain": [
              "array([{'sport': 'skate shoes', 'occasion': 'skate shoes', 'material': 'textile', 'gender': 'men', 'shoe size': '12 us men', 'shoe category': \"men's shoes\", 'assembled product dimensions (l x w x h)': '12.00 x 8.00 x 6.00 inches', 'fabric content': 'textile', 'color': 'black/dark grey gm light brown', 'model': '729825 004', 'shoe closure': 'lace-up', 'casual & dress shoe style': 'skateboarding shoes', 'manufacturer part number': '729825 004', 'brand': 'nike', 'shoe width': 'd(m)'}],\n",
              "      dtype=object)"
            ]
          },
          "metadata": {
            "tags": []
          },
          "execution_count": 64
        }
      ]
    },
    {
      "cell_type": "code",
      "metadata": {
        "id": "I1vfQ5B2Fvd9",
        "colab_type": "code",
        "colab": {}
      },
      "source": [
        ""
      ],
      "execution_count": 0,
      "outputs": []
    }
  ]
}